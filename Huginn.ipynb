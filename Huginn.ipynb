{
 "cells": [
  {
   "cell_type": "code",
   "execution_count": 1,
   "id": "344396e2",
   "metadata": {},
   "outputs": [],
   "source": [
    "import pydantic"
   ]
  },
  {
   "cell_type": "code",
   "execution_count": 2,
   "id": "a7f2950b",
   "metadata": {},
   "outputs": [],
   "source": [
    "import pydantic_ai"
   ]
  },
  {
   "cell_type": "code",
   "execution_count": 3,
   "id": "e3a4191f",
   "metadata": {},
   "outputs": [
    {
     "name": "stdout",
     "output_type": "stream",
     "text": [
      "2.12.3\n"
     ]
    }
   ],
   "source": [
    "print(pydantic.__version__)"
   ]
  },
  {
   "cell_type": "code",
   "execution_count": null,
   "id": "5b3f9f39",
   "metadata": {},
   "outputs": [],
   "source": [
    "import anthropic\n",
    "import os\n",
    "from dotenv import load_dotenv\n",
    "\n",
    "load_dotenv()\n",
    "\n",
    "my_api_key = os.environ.get('ANTHROPIC_API_KEY')\n",
    "\n",
    "client = anthropic.Anthropic(api_key = my_api_key)\n",
    "\n",
    "def get_completion(prompt: str, system_prompt: str = '', prefill: str = '') -> str:\n",
    "    message = client.messages.create(\n",
    "        model = 'claude-sonnet-4-5',\n",
    "        max_tokens = 4000,\n",
    "        temperature = 0.0,\n",
    "        system = system_prompt,\n",
    "        messages = [\n",
    "          {'role': 'user', 'content': prompt},\n",
    "          {'role': 'assistant', 'content': prefill}\n",
    "        ]\n",
    "    )\n",
    "    content_block = message.content[0]\n",
    "    if isinstance(content_block, anthropic.types.TextBlock):\n",
    "        return content_block.text\n",
    "    else:\n",
    "        raise ValueError(f\"Unexpected content block type: {type(content_block)}\")"
   ]
  },
  {
   "cell_type": "code",
   "execution_count": 8,
   "id": "1e7b2a54",
   "metadata": {},
   "outputs": [
    {
     "name": "stdout",
     "output_type": "stream",
     "text": [
      "# Relativitetsteorien forklaret simpelt\n",
      "\n",
      "Einstein's relativitetsteori består af to dele:\n",
      "\n",
      "## Speciel relativitetsteori (1905)\n",
      "\n",
      "**Hovedpointer:**\n",
      "\n",
      "1. **Lysets hastighed er konstant** - Lys bevæger sig altid med samme hastighed (ca. 300.000 km/s), uanset hvordan du selv bevæger dig.\n",
      "\n",
      "2. **Tid er relativ** - Jo hurtigere du bevæger dig, jo langsommere går tiden for dig sammenlignet med andre. Dette kaldes \"tidsforlængelse\".\n",
      "\n",
      "3. **E=mc²** - Energi og masse er to sider af samme sag. Masse kan omdannes til energi og omvendt.\n",
      "\n",
      "## Almen relativitetsteori (1915)\n",
      "\n",
      "**Hovedpointe:**\n",
      "\n",
      "Tyngdekraft er ikke en kraft, men en krumning af rum-tid. Tunge objekter som planeter og stjerner bøjer rummet omkring sig - ligesom en bowlingkugle laver en fordybning i en trampolin.\n",
      "\n",
      "**Hverdagseksempel:**\n",
      "Forestil dig Jorden som en bowlingkugle på en trampolin. Den laver en fordybning, og Månen ruller rundt i denne fordybning - det er derfor Månen kredser om Jorden.\n",
      "\n",
      "**Konsekvenser:**\n",
      "- GPS-satellitter skal justeres for relativistiske effekter\n",
      "- Tiden går hurtigere i rummet end på Jorden\n",
      "- Sort huller eksisterer\n",
      "\n",
      "Kort sagt: Rum og tid er ikke absolutte, men afhænger af hastighed og tyngdekraft.\n"
     ]
    }
   ],
   "source": [
    "system_prompt = 'You are a Dane; respond in Danish.'\n",
    "prompt = \"Explain the theory of relativity in simple terms.\"\n",
    "response = get_completion(prompt, system_prompt = system_prompt)\n",
    "print(response)"
   ]
  },
  {
   "cell_type": "code",
   "execution_count": null,
   "id": "1a94b4bb",
   "metadata": {},
   "outputs": [],
   "source": []
  }
 ],
 "metadata": {
  "kernelspec": {
   "display_name": "huginn",
   "language": "python",
   "name": "python3"
  },
  "language_info": {
   "codemirror_mode": {
    "name": "ipython",
    "version": 3
   },
   "file_extension": ".py",
   "mimetype": "text/x-python",
   "name": "python",
   "nbconvert_exporter": "python",
   "pygments_lexer": "ipython3",
   "version": "3.12.10"
  }
 },
 "nbformat": 4,
 "nbformat_minor": 5
}
