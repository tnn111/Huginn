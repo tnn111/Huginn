{
 "cells": [
  {
   "cell_type": "code",
   "execution_count": 1,
   "id": "344396e2",
   "metadata": {},
   "outputs": [],
   "source": [
    "import pydantic"
   ]
  },
  {
   "cell_type": "code",
   "execution_count": 2,
   "id": "a7f2950b",
   "metadata": {},
   "outputs": [],
   "source": [
    "import pydantic_ai"
   ]
  },
  {
   "cell_type": "code",
   "execution_count": 3,
   "id": "e3a4191f",
   "metadata": {},
   "outputs": [
    {
     "name": "stdout",
     "output_type": "stream",
     "text": [
      "2.12.3\n"
     ]
    }
   ],
   "source": [
    "print(pydantic.__version__)"
   ]
  },
  {
   "cell_type": "code",
   "execution_count": null,
   "id": "5b3f9f39",
   "metadata": {},
   "outputs": [],
   "source": [
    "import anthropic\n",
    "import os\n",
    "from dotenv import load_dotenv\n",
    "\n",
    "load_dotenv()\n",
    "\n",
    "my_api_key = os.environ.get('ANTHROPIC_API_KEY')\n",
    "\n",
    "client = anthropic.Anthropic(api_key = my_api_key)\n",
    "\n",
    "def get_completion(prompt: str, system_prompt: str = '', prefill: str = '') -> str:\n",
    "    message = client.messages.create(\n",
    "        model = 'claude-sonnet-4-5',\n",
    "        max_tokens = 4000,\n",
    "        temperature = 0.0,\n",
    "        system = system_prompt,\n",
    "        messages = [\n",
    "          {'role': 'user', 'content': prompt},\n",
    "          {'role': 'assistant', 'content': prefill}\n",
    "        ]\n",
    "    )\n",
    "    content_block = message.content[0]\n",
    "    if isinstance(content_block, anthropic.types.TextBlock):\n",
    "        return content_block.text\n",
    "    else:\n",
    "        raise ValueError(f\"Unexpected content block type: {type(content_block)}\")"
   ]
  },
  {
   "cell_type": "code",
   "execution_count": 7,
   "id": "1e7b2a54",
   "metadata": {},
   "outputs": [
    {
     "name": "stdout",
     "output_type": "stream",
     "text": [
      "# Theory of Relativity - Simple Explanation\n",
      "\n",
      "Einstein's theory has two parts:\n",
      "\n",
      "## **Special Relativity (1905)**\n",
      "\n",
      "The key ideas:\n",
      "\n",
      "1. **Nothing travels faster than light** - Light speed is the universal speed limit (186,000 miles/second)\n",
      "\n",
      "2. **Time is relative** - Time moves slower for objects moving very fast. If you traveled in a spaceship near light speed, you'd age slower than people on Earth\n",
      "\n",
      "3. **Space and time are connected** - They form a single fabric called \"spacetime\"\n",
      "\n",
      "## **General Relativity (1915)**\n",
      "\n",
      "The main concept:\n",
      "\n",
      "**Gravity isn't a force pulling you down - it's curved space**\n",
      "\n",
      "Imagine a bowling ball on a trampoline. It creates a dip, and marbles roll toward it. Massive objects like Earth bend spacetime the same way, and that bending is what we experience as gravity.\n",
      "\n",
      "## **Real-World Effects**\n",
      "\n",
      "- GPS satellites must account for relativity or they'd be off by miles\n",
      "- Time passes slightly faster for astronauts in space\n",
      "- Black holes bend spacetime so extremely that not even light escapes\n",
      "\n",
      "**Bottom line**: Space and time aren't fixed - they bend, stretch, and change depending on speed and gravity.\n"
     ]
    }
   ],
   "source": [
    "prompt = \"Explain the theory of relativity in simple terms.\"\n",
    "response = get_completion(prompt)\n",
    "print(response)"
   ]
  },
  {
   "cell_type": "code",
   "execution_count": null,
   "id": "1ca034a2",
   "metadata": {},
   "outputs": [],
   "source": []
  }
 ],
 "metadata": {
  "kernelspec": {
   "display_name": "huginn",
   "language": "python",
   "name": "python3"
  },
  "language_info": {
   "codemirror_mode": {
    "name": "ipython",
    "version": 3
   },
   "file_extension": ".py",
   "mimetype": "text/x-python",
   "name": "python",
   "nbconvert_exporter": "python",
   "pygments_lexer": "ipython3",
   "version": "3.12.10"
  }
 },
 "nbformat": 4,
 "nbformat_minor": 5
}
