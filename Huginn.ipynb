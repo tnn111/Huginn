{
 "cells": [
  {
   "cell_type": "code",
   "execution_count": 1,
   "id": "344396e2",
   "metadata": {},
   "outputs": [],
   "source": [
    "import pydantic"
   ]
  },
  {
   "cell_type": "code",
   "execution_count": 2,
   "id": "a7f2950b",
   "metadata": {},
   "outputs": [],
   "source": [
    "import pydantic_ai"
   ]
  },
  {
   "cell_type": "code",
   "execution_count": 3,
   "id": "e3a4191f",
   "metadata": {},
   "outputs": [
    {
     "name": "stdout",
     "output_type": "stream",
     "text": [
      "2.12.3\n"
     ]
    }
   ],
   "source": [
    "print(pydantic.__version__)"
   ]
  },
  {
   "cell_type": "code",
   "execution_count": null,
   "id": "5b3f9f39",
   "metadata": {},
   "outputs": [],
   "source": "import anthropic\nimport os\nfrom dotenv import load_dotenv\n\nload_dotenv()\n\nmy_api_key = os.environ.get('ANTHROPIC_API_KEY')\n\nclient = anthropic.Anthropic(api_key = my_api_key)\n\nprompt = \"Explain the theory of relativity in simple terms.\"\n\ndef get_completion(prompt: str, system_prompt: str = '', prefill: str = '') -> str:\n    message = client.messages.create(\n        model = 'claude-sonnet-4-5',\n        max_tokens = 4000,\n        temperature = 0.0,\n        system = system_prompt,\n        messages = [\n          {'role': 'user', 'content': prompt},\n          {'role': 'assistant', 'content': prefill}\n        ]\n    )\n    content_block = message.content[0]\n    if isinstance(content_block, anthropic.types.TextBlock):\n        return content_block.text\n    else:\n        raise ValueError(f\"Unexpected content block type: {type(content_block)}\")"
  }
 ],
 "metadata": {
  "kernelspec": {
   "display_name": "huginn",
   "language": "python",
   "name": "python3"
  },
  "language_info": {
   "codemirror_mode": {
    "name": "ipython",
    "version": 3
   },
   "file_extension": ".py",
   "mimetype": "text/x-python",
   "name": "python",
   "nbconvert_exporter": "python",
   "pygments_lexer": "ipython3",
   "version": "3.12.10"
  }
 },
 "nbformat": 4,
 "nbformat_minor": 5
}